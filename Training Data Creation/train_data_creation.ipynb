{
 "cells": [
  {
   "cell_type": "code",
   "execution_count": 41,
   "metadata": {},
   "outputs": [],
   "source": [
    "from PIL import Image, ImageDraw\n",
    "import random\n",
    "import numpy as np\n",
    "import matplotlib.pyplot as plt"
   ]
  },
  {
   "cell_type": "code",
   "execution_count": 66,
   "metadata": {},
   "outputs": [],
   "source": [
    "def draw_lines_on_image(image, num_lines, orientation, line_width):\n",
    "    # Create a drawing object\n",
    "    draw = ImageDraw.Draw(image)\n",
    "\n",
    "    # Define the dimensions of the image\n",
    "    width, height = image.size\n",
    "\n",
    "    # Generate 10 random horizontal or vertical lines on the image\n",
    "    for i in range(num_lines):        \n",
    "        if orientation == 0:  # Generate a horizontal line\n",
    "            y = random.randint(0, height)\n",
    "            x1, x2 = random.sample(range(0, width), 2)\n",
    "            color = (0,0,0)\n",
    "            draw.line([(x1, y), (x2, y)], fill=color, width=line_width)\n",
    "        elif orientation == 1:  # Generate a vertical line\n",
    "            x = random.randint(0, width)\n",
    "            y1, y2 = random.sample(range(0, height), 2)\n",
    "            color = (0,0,0)\n",
    "            draw.line([(x, y1), (x, y2)], fill=color, width=line_width)\n",
    "        else:\n",
    "            # Generate the coordinates of the endpoints of the line\n",
    "            x1, y1 = random.randint(0, width), random.randint(0, height)\n",
    "            x2, y2 = random.randint(0, width), random.randint(0, height)\n",
    "            color = (0,0,0)\n",
    "            draw.line([(x1, y1), (x2, y2)], fill=color, width=line_width)\n",
    "\n",
    "    return image"
   ]
  },
  {
   "cell_type": "code",
   "execution_count": 63,
   "metadata": {},
   "outputs": [],
   "source": [
    "def image_to_array(image): \n",
    "    # Convert the image to black and white\n",
    "    image = image.convert('L')\n",
    "    \n",
    "    # Convert the image to a numpy array\n",
    "    array = np.array(image)\n",
    "    \n",
    "    # Scale the pixel values to be between 0 and 1\n",
    "    array = array.astype('float32') / 255.\n",
    "    \n",
    "    return array"
   ]
  },
  {
   "cell_type": "code",
   "execution_count": 64,
   "metadata": {},
   "outputs": [],
   "source": [
    "def display_image(image_array):\n",
    "    # Scale the pixel values back to the 0-255 range\n",
    "    scaled_image_array = (image_array * 255).astype('uint8')\n",
    "    \n",
    "    # Display the image using matplotlib\n",
    "    plt.imshow(scaled_image_array, cmap='gray')\n",
    "    plt.show()"
   ]
  },
  {
   "cell_type": "code",
   "execution_count": 82,
   "metadata": {},
   "outputs": [
    {
     "data": {
      "image/png": "[encoded data removed]",
      "text/plain": [
       "<Figure size 640x480 with 1 Axes>"
      ]
     },
     "metadata": {},
     "output_type": "display_data"
    }
   ],
   "source": [
    "img_path = r'../data/img_format/symbols/receptacle/duplex1bicubicsharp.png'\n",
    "image = Image.open(img_path)\n",
    "image = draw_lines_on_image(image, 5, 0, 3)\n",
    "array = image_to_array(image)\n",
    "display_image(array)"
   ]
  }
 ],
 "metadata": {
  "kernelspec": {
   "display_name": "Python 3",
   "language": "python",
   "name": "python3"
  },
  "language_info": {
   "codemirror_mode": {
    "name": "ipython",
    "version": 3
   },
   "file_extension": ".py",
   "mimetype": "text/x-python",
   "name": "python",
   "nbconvert_exporter": "python",
   "pygments_lexer": "ipython3",
   "version": "3.8.10"
  },
  "orig_nbformat": 4,
  "vscode": {
   "interpreter": {
    "hash": "e79cebfffb2e3a4b7d2d2fd53b48f0eab2f20a6a535e26e1d02c2764acd76f0c"
   }
  }
 },
 "nbformat": 4,
 "nbformat_minor": 2
}
