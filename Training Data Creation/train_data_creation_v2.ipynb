{
 "cells": [
  {
   "cell_type": "code",
   "execution_count": 64,
   "metadata": {},
   "outputs": [],
   "source": [
    "from PIL import Image\n",
    "import random\n",
    "import numpy as np\n",
    "import matplotlib.pyplot as plt\n",
    "import os"
   ]
  },
  {
   "attachments": {},
   "cell_type": "markdown",
   "metadata": {},
   "source": [
    "### Embedding symbols in pictures"
   ]
  },
  {
   "cell_type": "code",
   "execution_count": 66,
   "metadata": {},
   "outputs": [],
   "source": [
    "# function that returns more \"realistic\" symbol placement on the background plan image\n",
    "\n",
    "def position_symbol_near_line(overlay_shape, background_array, theta, line_length):\n",
    "    max_counter = 5000\n",
    "    edge_width = 1\n",
    "    padding = 5\n",
    "    edge_thres = 120\n",
    "    overlap_thres = 240\n",
    "\n",
    "    ow = overlay_shape[0]\n",
    "    oh = overlay_shape[1]\n",
    "\n",
    "    bckw = background_array.shape[1]\n",
    "    bckh = background_array.shape[0]\n",
    "    \n",
    "    counter = 0\n",
    "    while True:\n",
    "        counter += 1\n",
    "        x = random.randint( (0 + line_length), (bckw - ow - edge_width - line_length) )\n",
    "        y = random.randint( (0 + line_length), (bckh - oh - edge_width - line_length) )\n",
    "\n",
    "\n",
    "        if theta == 0:\n",
    "            val = background_array[(y+oh):(y+oh+edge_width), (x-line_length):(x+ow+line_length), :].mean()\n",
    "        elif theta == 90:\n",
    "            val = background_array[y-line_length:y+oh+line_length, (x+ow):(x+ow+edge_width), :].mean()\n",
    "        elif theta == 180:\n",
    "            val = background_array[y:(y+edge_width), x-line_length:x+ow+line_length, :].mean()\n",
    "        else:\n",
    "            val = background_array[y-line_length:y+oh+line_length, x:(x+edge_width), :].mean()\n",
    "\n",
    "        cov = background_array[y-padding:y+oh+padding, x-padding:x+ow+padding, :].mean()\n",
    "\n",
    "        if (val < edge_thres) and (cov > overlap_thres): # first condition \"ties\" the symbol to a horizontal or vertical line, 2nd condition makes sure it's overlayed on a mostly empty background\n",
    "            return x, y\n",
    "        elif counter == max_counter:\n",
    "            return -1, -1\n",
    "\n",
    "\n",
    "\n",
    "def get_label(overlay_filename):\n",
    "    if \"duplex\" in overlay_filename:\n",
    "        return 0\n",
    "    if \"quad\" in overlay_filename:\n",
    "        return 1\n",
    "    if \"special\" in overlay_filename:\n",
    "        return 2\n",
    "    if \"switch\" in overlay_filename:\n",
    "        return 3\n",
    "    "
   ]
  },
  {
   "cell_type": "code",
   "execution_count": 82,
   "metadata": {},
   "outputs": [],
   "source": [
    "def generate_training_data():\n",
    "    symbols_folder = '../data/img_format/input_ready/receptacle/'\n",
    "    drawings_folder = '../data/plans/without_symbols/'\n",
    "    output_folder = '../data/auto_generated_training/_temp_output_dir/'\n",
    "    output_image_size = 512\n",
    "    num_symbols_to_overlay = random.choice([3,4,5,6,7,8])  # set up the number of symbols to overlay in each image\n",
    "\n",
    "\n",
    "    # get a list of all the images from both symbols and drawings\n",
    "    symbol_images = os.listdir(symbols_folder)\n",
    "    background_images = os.listdir(drawings_folder)\n",
    "\n",
    "    # select a set of paths to overlay images\n",
    "    overlay_images = random.choices(symbol_images, k=num_symbols_to_overlay)\n",
    "\n",
    "    # create a random image patch (background_patch) from a random background image\n",
    "    background_image_name = random.choice(background_images)\n",
    "    background_image = Image.open(os.path.join(drawings_folder, background_image_name))\n",
    "    background_array = np.asarray(background_image)  # convert the image to an array so a patch can be randomized from it\n",
    "    xpatch = random.randint(0, background_image.width-output_image_size)\n",
    "    ypatch = random.randint(0, background_image.height-output_image_size)\n",
    "    patch_array = background_array[ypatch:ypatch+output_image_size, xpatch:xpatch+output_image_size, :]\n",
    "    background_patch = Image.fromarray(patch_array, 'RGBA')\n",
    "\n",
    "\n",
    "    yolo_data = '' # add onto this string for each added symbol\n",
    "\n",
    "    for i, overlay_image in enumerate(overlay_images):\n",
    "\n",
    "        overlay = Image.open(os.path.join(symbols_folder, overlay_image)).convert('RGB') # open this overlay image. .convert('RGB') ensures that we get three channels\n",
    "        overlay = overlay.convert('RGBA')  # convert (mostly) white pixels to transparent\n",
    "\n",
    "        datas = overlay.getdata()\n",
    "        newData = []\n",
    "        for item in datas:\n",
    "            if item[0] >= 230 and item[1] >= 230 and item[2] >= 230: # cutoff of 230 seems to work, has to be lower than 255 \n",
    "                newData.append((255, 255, 255, 0))\n",
    "            else:\n",
    "                newData.append(item)\n",
    "        overlay.putdata(newData)\n",
    "\n",
    "\n",
    "        # resize the overlay to match background drawing size\n",
    "        overlay_size = max(overlay.size)\n",
    "        overlay_scale = random.randint(22, 36)/overlay_size\n",
    "        # overlay_scale = (random.uniform(0.03, 0.06)*output_image_size)/overlay_size\n",
    "        overlay = overlay.resize((int(overlay.size[0]*overlay_scale), int(overlay.size[1]*overlay_scale)))\n",
    "\n",
    "        # rotate overlay\n",
    "        angle = random.choice([0, 90, 180, 270]) # choose a random cardinal direction\n",
    "        overlay = overlay.rotate(angle, expand=True)\n",
    "\n",
    "        x, y = position_symbol_near_line(overlay.size, patch_array, theta=angle, line_length=25)\n",
    "        if x == y == -1:\n",
    "            num_symbols_to_overlay -= 1\n",
    "            continue # symbol couldn't be placed on the patch, skip and proceed to next one\n",
    "\n",
    "        background_patch.paste(overlay, (x, y), overlay)\n",
    "        patch_array = np.asarray(background_patch)\n",
    "\n",
    "        # add YOLO bounding box data to string\n",
    "        x_center = (x + 0.5*overlay.width)/background_patch.width\n",
    "        y_center = (y + 0.5*overlay.height)/background_patch.height\n",
    "        width = overlay.width/background_patch.width\n",
    "        height = overlay.height/background_patch.height\n",
    "        yolo_data += f'{get_label(overlay_images[i])} {x_center:.6f} {y_center:.6f} {width:.6f} {height:.6f}\\n'\n",
    "\n",
    "    # print(f\"{num_symbols_to_overlay}/{i+1} symbols placed on patch\")\n",
    "    # output_path = os.path.join(output_folder, background_image_name[:-4])\n",
    "\n",
    "    return output_folder, background_patch, yolo_data"
   ]
  },
  {
   "attachments": {},
   "cell_type": "markdown",
   "metadata": {},
   "source": [
    "### Test the function"
   ]
  },
  {
   "cell_type": "code",
   "execution_count": 73,
   "metadata": {},
   "outputs": [
    {
     "name": "stdout",
     "output_type": "stream",
     "text": [
      "1 0.733398 0.301758 0.048828 0.037109\n",
      "3 0.176758 0.595703 0.021484 0.050781\n",
      "3 0.790039 0.107422 0.064453 0.027344\n",
      "\n"
     ]
    },
    {
     "data": {
      "image/png": "[encoded data removed]",
      "text/plain": [
       "<PIL.Image.Image image mode=RGBA size=512x512>"
      ]
     },
     "execution_count": 73,
     "metadata": {},
     "output_type": "execute_result"
    }
   ],
   "source": [
    "output_path, image_output, yolo_data = generate_training_data()\n",
    "print(yolo_data)\n",
    "image_output"
   ]
  },
  {
   "cell_type": "code",
   "execution_count": 84,
   "metadata": {},
   "outputs": [],
   "source": [
    "for i in range(1,1001):\n",
    "    output_folder, background_patch, yolo_data = generate_training_data()\n",
    "\n",
    "    if i==1:\n",
    "        os.makedirs(output_folder+\"images/\")\n",
    "        os.makedirs(output_folder+\"labels/\")\n",
    "\n",
    "    if yolo_data != \"\":\n",
    "        output_path = output_folder + \"images/ag_\" + str(i).zfill(4) + \".png\"\n",
    "        background_patch.save(output_path)\n",
    "\n",
    "        output_path = output_folder + \"labels/ag_\" + str(i).zfill(4) + \".txt\"\n",
    "        with open(output_path, mode=\"w\") as f:\n",
    "            f.write(yolo_data)"
   ]
  }
 ],
 "metadata": {
  "kernelspec": {
   "display_name": "Python 3",
   "language": "python",
   "name": "python3"
  },
  "language_info": {
   "codemirror_mode": {
    "name": "ipython",
    "version": 3
   },
   "file_extension": ".py",
   "mimetype": "text/x-python",
   "name": "python",
   "nbconvert_exporter": "python",
   "pygments_lexer": "ipython3",
   "version": "3.9.15"
  },
  "orig_nbformat": 4,
  "vscode": {
   "interpreter": {
    "hash": "e79cebfffb2e3a4b7d2d2fd53b48f0eab2f20a6a535e26e1d02c2764acd76f0c"
   }
  }
 },
 "nbformat": 4,
 "nbformat_minor": 2
}
