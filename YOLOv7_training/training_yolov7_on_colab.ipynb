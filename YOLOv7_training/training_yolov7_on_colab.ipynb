{
  "nbformat": 4,
  "nbformat_minor": 0,
  "metadata": {
    "colab": {
      "provenance": []
    },
    "kernelspec": {
      "name": "python3",
      "display_name": "Python 3"
    },
    "language_info": {
      "name": "python"
    },
    "accelerator": "GPU",
    "gpuClass": "standard"
  },
  "cells": [
    {
      "cell_type": "markdown",
      "source": [
        "*   https://medium.com/mlearning-ai/object-detection-with-yolov7-a74fa1f03c7e\n",
        "*   https://github.com/WongKinYiu/yolov7\n",
        "\n"
      ],
      "metadata": {
        "id": "vmIH1E1Tj79y"
      }
    },
    {
      "cell_type": "code",
      "execution_count": 1,
      "metadata": {
        "colab": {
          "base_uri": "https://localhost:8080/"
        },
        "id": "uplNwAkRCSNX",
        "outputId": "4429a309-32dd-4d69-8dfb-13e45ee5a2b1"
      },
      "outputs": [
        {
          "output_type": "stream",
          "name": "stdout",
          "text": [
            "Cloning into 'yolov7'...\n",
            "remote: Enumerating objects: 1139, done.\u001b[K\n",
            "remote: Total 1139 (delta 0), reused 0 (delta 0), pack-reused 1139\u001b[K\n",
            "Receiving objects: 100% (1139/1139), 70.41 MiB | 34.29 MiB/s, done.\n",
            "Resolving deltas: 100% (488/488), done.\n"
          ]
        }
      ],
      "source": [
        "!git clone https://github.com/WongKinYiu/yolov7.git"
      ]
    },
    {
      "cell_type": "code",
      "source": [
        "# download training weights\n",
        "!wget -qq https://github.com/WongKinYiu/yolov7/releases/download/v0.1/yolov7-e6e_training.pt"
      ],
      "metadata": {
        "id": "QzrQK2bqgKhn"
      },
      "execution_count": 2,
      "outputs": []
    },
    {
      "cell_type": "code",
      "source": [
        "# download image and label data\n",
        "!gdown -qq 1MiEiOr1-MVw9qSBLG2qEnOmlpNgxLhWn  # auto_generated_training_set2\n",
        "!gdown -qq 1bjU8MtEhssF47vowTxt5Rf0SqTdOU-KS  # manual_training_data_set2.zip"
      ],
      "metadata": {
        "id": "a28PpOXufAww"
      },
      "execution_count": 3,
      "outputs": []
    },
    {
      "cell_type": "code",
      "source": [
        "# unzip image and label data\n",
        "!unzip -qq auto_generated_training_set2.zip\n",
        "!unzip -qq manual_training_data_set2.zip\n",
        "\n",
        "# move folders into the yolov7 directory\n",
        "import shutil\n",
        "shutil.move(\"test/\", \"yolov7/test/\", copy_function = shutil.copytree)\n",
        "shutil.move(\"train/\", \"yolov7/train/\", copy_function = shutil.copytree)\n",
        "shutil.move(\"valid/\", \"yolov7/valid/\", copy_function = shutil.copytree)"
      ],
      "metadata": {
        "colab": {
          "base_uri": "https://localhost:8080/",
          "height": 35
        },
        "id": "lzlwd8Y_gJpS",
        "outputId": "f44a1183-a09a-493e-8cc9-510cacf9eab2"
      },
      "execution_count": 4,
      "outputs": [
        {
          "output_type": "execute_result",
          "data": {
            "text/plain": [
              "'yolov7/valid/'"
            ],
            "application/vnd.google.colaboratory.intrinsic+json": {
              "type": "string"
            }
          },
          "metadata": {},
          "execution_count": 4
        }
      ]
    },
    {
      "cell_type": "code",
      "source": [
        "# create a new custom config file by copying \"yolov7.yaml...\n",
        "# and changing line 2 where the number of classes is defined (originally 80 classes)\n",
        "\n",
        "with open(\"/content/yolov7/cfg/training/yolov7.yaml\", \"r\") as f:\n",
        "    content = f.readlines()\n",
        "    content[1] = \"nc: 4  # number of classes\\n\"\n",
        "\n",
        "with open(\"/content/yolov7/cfg/training/esr_v1.yaml\", \"w\") as f:\n",
        "    f.writelines(content)"
      ],
      "metadata": {
        "id": "qjYGIL4jFIi0"
      },
      "execution_count": 5,
      "outputs": []
    },
    {
      "cell_type": "code",
      "source": [
        "# Create file that defines where..\n",
        "# 1. the training, validation, test samples+labels are located\n",
        "# 2. the number of classes\n",
        "# 3. class names\n",
        "\n",
        "with open(\"/content/yolov7/data/esr.yaml\", \"w\") as f:\n",
        "    f.write(\"train: ./yolov7/train\\n\")\n",
        "    f.write(\"val: ./yolov7/valid\\n\")\n",
        "    f.write(\"test: ./yolov7/test\\n\\n\")\n",
        "    f.write(\"# Classes\\n\")\n",
        "    f.write(\"nc: 4  # number of classes\\n\")\n",
        "    f.write(\"names: ['duplex', 'quad', 'special', 'switch']\")"
      ],
      "metadata": {
        "id": "aeiNhb-AFhOG"
      },
      "execution_count": 6,
      "outputs": []
    },
    {
      "cell_type": "markdown",
      "source": [
        "### Training (terminal)"
      ],
      "metadata": {
        "id": "pkGLFAtCSCi7"
      }
    },
    {
      "cell_type": "code",
      "source": [
        "run_name = \"esr-trial1\"\n",
        "!python yolov7/train.py --workers 8 --device 0 --batch-size 32 --weights yolov7-e6e_training.pt --data yolov7/data/esr.yaml --img 512 --cfg yolov7/cfg/training/esr_v1.yaml --name $esr-trial1 --epochs 15"
      ],
      "metadata": {
        "id": "wR6f8WvvRX-s"
      },
      "execution_count": null,
      "outputs": []
    },
    {
      "cell_type": "code",
      "source": [
        "# save the best weights and other run outputs\n",
        "run_zip = run_name+\".zip\"\n",
        "basepath = \"runs/train/\"\n",
        "wghts = \"/weights\"\n",
        "best_wghts = \"/best.pt\"\n",
        "\n",
        "\n",
        "!cp $basepath$run_name$wghts$best_wghts $basepath$run_name$best_wghts\n",
        "!rm -rf $base_path$run_name$wghts\n",
        "!cp -r $base_path$run_name $run_name\n",
        "!rm -rf $base_path$run_name\n",
        "\n",
        "!zip -qq -r $run_zip $run_name\n",
        "from google.colab import files\n",
        "files.download(run_zip)"
      ],
      "metadata": {
        "id": "BPMZjZwx_4eo"
      },
      "execution_count": null,
      "outputs": []
    },
    {
      "cell_type": "code",
      "source": [
        "# cleanup\n",
        "!rm -rf esr-trial1"
      ],
      "metadata": {
        "id": "DQ8f4MAdArNq"
      },
      "execution_count": 27,
      "outputs": []
    },
    {
      "cell_type": "markdown",
      "source": [
        "### Testing (terminal)"
      ],
      "metadata": {
        "id": "Hwf3bUZUSFO3"
      }
    },
    {
      "cell_type": "code",
      "source": [],
      "metadata": {
        "id": "1oLzRWM1SBH0"
      },
      "execution_count": null,
      "outputs": []
    }
  ]
}